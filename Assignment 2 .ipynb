{
 "cells": [
  {
   "cell_type": "code",
   "execution_count": 1,
   "id": "5c72d570-3806-47d4-b3b3-04991bfe939f",
   "metadata": {},
   "outputs": [
    {
     "name": "stdout",
     "output_type": "stream",
     "text": [
      "hello guys\n"
     ]
    }
   ],
   "source": [
    "print(\"hello guys\")"
   ]
  },
  {
   "cell_type": "code",
   "execution_count": 4,
   "id": "c6014226-7f5d-4a8a-b428-f83d09866aed",
   "metadata": {},
   "outputs": [
    {
     "data": {
      "text/plain": [
       "' hello today i am learning coding its quiet interesting ,\\nwe expolre new things and thinking power also grow,\\npython is easy also \\nnow i am on basics only and \\ntrying to complete assignment '"
      ]
     },
     "execution_count": 4,
     "metadata": {},
     "output_type": "execute_result"
    }
   ],
   "source": [
    "\"\"\" hello today i am learning coding its quiet interesting ,\n",
    "we expolre new things and thinking power also grow,\n",
    "python is easy also \n",
    "now i am on basics only and \n",
    "trying to complete assignment \"\"\"\n"
   ]
  },
  {
   "cell_type": "code",
   "execution_count": 5,
   "id": "236228cc-3d50-474c-be07-327bd75f5621",
   "metadata": {},
   "outputs": [],
   "source": [
    "# types of comments are single line and multi line \n"
   ]
  },
  {
   "cell_type": "code",
   "execution_count": 7,
   "id": "6246dab5-a4c0-47aa-bc95-2c236d711389",
   "metadata": {},
   "outputs": [],
   "source": [
    "a = \"pw\""
   ]
  },
  {
   "cell_type": "code",
   "execution_count": 8,
   "id": "be4d9432-04ee-4844-af53-934771590a33",
   "metadata": {},
   "outputs": [
    {
     "data": {
      "text/plain": [
       "'pw'"
      ]
     },
     "execution_count": 8,
     "metadata": {},
     "output_type": "execute_result"
    }
   ],
   "source": [
    "a"
   ]
  },
  {
   "cell_type": "code",
   "execution_count": 9,
   "id": "962e0bb1-076e-43ea-abf6-37837506a6de",
   "metadata": {},
   "outputs": [],
   "source": [
    "#assign"
   ]
  },
  {
   "cell_type": "code",
   "execution_count": 10,
   "id": "d9335ffe-6f07-486e-bf80-109748626312",
   "metadata": {},
   "outputs": [
    {
     "data": {
      "text/plain": [
       "False"
      ]
     },
     "execution_count": 10,
     "metadata": {},
     "output_type": "execute_result"
    }
   ],
   "source": [
    "a == 3"
   ]
  },
  {
   "cell_type": "code",
   "execution_count": 11,
   "id": "42966862-ce19-4b8e-b416-d622e2c87d54",
   "metadata": {},
   "outputs": [
    {
     "data": {
      "text/plain": [
       "True"
      ]
     },
     "execution_count": 11,
     "metadata": {},
     "output_type": "execute_result"
    }
   ],
   "source": [
    "3 == 3"
   ]
  },
  {
   "cell_type": "code",
   "execution_count": 12,
   "id": "019703eb-0856-4cff-8bec-9635bdc8ffca",
   "metadata": {},
   "outputs": [],
   "source": [
    "#declare"
   ]
  },
  {
   "cell_type": "code",
   "execution_count": 14,
   "id": "0a7d9d09-c5e9-4132-a95c-595df07d5bc7",
   "metadata": {},
   "outputs": [
    {
     "data": {
      "text/plain": [
       "'10'"
      ]
     },
     "execution_count": 14,
     "metadata": {},
     "output_type": "execute_result"
    }
   ],
   "source": [
    "str(10)"
   ]
  },
  {
   "cell_type": "code",
   "execution_count": 15,
   "id": "9b53bc73-7582-496d-bd45-5a5385df3350",
   "metadata": {},
   "outputs": [
    {
     "data": {
      "text/plain": [
       "10"
      ]
     },
     "execution_count": 15,
     "metadata": {},
     "output_type": "execute_result"
    }
   ],
   "source": [
    "int(10.568)"
   ]
  },
  {
   "cell_type": "code",
   "execution_count": 17,
   "id": "12c815e1-b68c-4422-8e27-f25e34b8db17",
   "metadata": {},
   "outputs": [
    {
     "data": {
      "text/plain": [
       "120.0"
      ]
     },
     "execution_count": 17,
     "metadata": {},
     "output_type": "execute_result"
    }
   ],
   "source": [
    "float(120)"
   ]
  },
  {
   "cell_type": "code",
   "execution_count": 20,
   "id": "1579ea7c-f8b3-4eec-a3e0-7b858834c1ee",
   "metadata": {},
   "outputs": [],
   "source": [
    "a = 78"
   ]
  },
  {
   "cell_type": "code",
   "execution_count": 21,
   "id": "b4382b0a-c439-4a9f-9462-9df1c957e72b",
   "metadata": {},
   "outputs": [
    {
     "data": {
      "text/plain": [
       "78.0"
      ]
     },
     "execution_count": 21,
     "metadata": {},
     "output_type": "execute_result"
    }
   ],
   "source": [
    "float(a)"
   ]
  },
  {
   "cell_type": "code",
   "execution_count": 23,
   "id": "c8ae6ede-00f8-4bd6-9517-871742a4cf31",
   "metadata": {},
   "outputs": [],
   "source": [
    "b = 14.8952"
   ]
  },
  {
   "cell_type": "code",
   "execution_count": 24,
   "id": "30a8cf24-9294-4199-92a4-acd8ef991f3a",
   "metadata": {},
   "outputs": [
    {
     "data": {
      "text/plain": [
       "14"
      ]
     },
     "execution_count": 24,
     "metadata": {},
     "output_type": "execute_result"
    }
   ],
   "source": [
    "int(b)"
   ]
  },
  {
   "cell_type": "code",
   "execution_count": 25,
   "id": "928477a6-87a9-462b-bd83-e29444aa59c9",
   "metadata": {},
   "outputs": [],
   "source": [
    "c = 8"
   ]
  },
  {
   "cell_type": "code",
   "execution_count": 26,
   "id": "8918bc5b-3c2f-4e14-8b6b-4667fc10a6a9",
   "metadata": {},
   "outputs": [
    {
     "data": {
      "text/plain": [
       "'8'"
      ]
     },
     "execution_count": 26,
     "metadata": {},
     "output_type": "execute_result"
    }
   ],
   "source": [
    "str(c)"
   ]
  },
  {
   "cell_type": "code",
   "execution_count": 28,
   "id": "c5a247e7-02bd-452a-b870-9ec4d2403ed8",
   "metadata": {},
   "outputs": [
    {
     "name": "stdout",
     "output_type": "stream",
     "text": [
      "python\n"
     ]
    }
   ],
   "source": [
    "print(\"python\")"
   ]
  },
  {
   "cell_type": "code",
   "execution_count": 29,
   "id": "13cae89a-2612-4f01-a9e0-7e960761f8b2",
   "metadata": {},
   "outputs": [
    {
     "data": {
      "text/plain": [
       "'good morning'"
      ]
     },
     "execution_count": 29,
     "metadata": {},
     "output_type": "execute_result"
    }
   ],
   "source": [
    "\"\"\"good morning\"\"\""
   ]
  },
  {
   "cell_type": "code",
   "execution_count": 32,
   "id": "e6557731-6900-470e-a0d4-9701ebabbd54",
   "metadata": {},
   "outputs": [],
   "source": [
    "my_list = [1, 2, 3, 4, 5]"
   ]
  },
  {
   "cell_type": "code",
   "execution_count": 53,
   "id": "f3329712-87c7-4b00-99ce-a30958d9d313",
   "metadata": {},
   "outputs": [
    {
     "name": "stdout",
     "output_type": "stream",
     "text": [
      "[2, 3]\n"
     ]
    }
   ],
   "source": [
    "print(my_list[1:3])"
   ]
  },
  {
   "cell_type": "code",
   "execution_count": 54,
   "id": "2197a73c-f86c-439c-b6b1-98b9e4132228",
   "metadata": {},
   "outputs": [],
   "source": [
    "#complex number is combination of real no and imaginary no\n",
    "# in maths intead of j .... i is used "
   ]
  },
  {
   "cell_type": "code",
   "execution_count": 55,
   "id": "498c1bd6-72e9-4673-b995-0c19c957f149",
   "metadata": {},
   "outputs": [],
   "source": [
    "u = 8 + 9j"
   ]
  },
  {
   "cell_type": "code",
   "execution_count": 56,
   "id": "0fb8a163-8cc8-4333-983b-04c4d3514b40",
   "metadata": {},
   "outputs": [
    {
     "data": {
      "text/plain": [
       "complex"
      ]
     },
     "execution_count": 56,
     "metadata": {},
     "output_type": "execute_result"
    }
   ],
   "source": [
    "type(u)"
   ]
  },
  {
   "cell_type": "code",
   "execution_count": 59,
   "id": "f1eebcbe-13f6-405e-a737-85f47fe45c69",
   "metadata": {},
   "outputs": [],
   "source": [
    "age = 25"
   ]
  },
  {
   "cell_type": "code",
   "execution_count": 60,
   "id": "01ffabd4-3770-4324-bd16-7d2dc12ffad1",
   "metadata": {},
   "outputs": [],
   "source": [
    "price = 9.99"
   ]
  },
  {
   "cell_type": "code",
   "execution_count": 61,
   "id": "e6f05d77-d420-401d-a2a8-0a6bcd68aa65",
   "metadata": {},
   "outputs": [
    {
     "data": {
      "text/plain": [
       "float"
      ]
     },
     "execution_count": 61,
     "metadata": {},
     "output_type": "execute_result"
    }
   ],
   "source": [
    "type(price)"
   ]
  },
  {
   "cell_type": "code",
   "execution_count": 62,
   "id": "111a5524-b60d-4ab5-83ff-8e4844b2ac7c",
   "metadata": {},
   "outputs": [],
   "source": [
    "name = \"unnati surana\""
   ]
  },
  {
   "cell_type": "code",
   "execution_count": 63,
   "id": "f5dd9003-c267-462e-b31e-9e3290fa4469",
   "metadata": {},
   "outputs": [
    {
     "name": "stdout",
     "output_type": "stream",
     "text": [
      "unnati surana\n"
     ]
    }
   ],
   "source": [
    "print(name)"
   ]
  },
  {
   "cell_type": "code",
   "execution_count": 64,
   "id": "d59bae35-845b-4545-846c-aad27cc0555d",
   "metadata": {},
   "outputs": [],
   "source": [
    "#OR "
   ]
  },
  {
   "cell_type": "code",
   "execution_count": 66,
   "id": "f5237b91-312e-4779-b1bc-21d68d8ca43c",
   "metadata": {},
   "outputs": [
    {
     "data": {
      "text/plain": [
       "'unnati surana'"
      ]
     },
     "execution_count": 66,
     "metadata": {},
     "output_type": "execute_result"
    }
   ],
   "source": [
    "name"
   ]
  },
  {
   "cell_type": "code",
   "execution_count": 67,
   "id": "b5185b2d-d1fa-4f28-a97a-6c90208fc86c",
   "metadata": {},
   "outputs": [],
   "source": [
    "v = \"Hello,World!\""
   ]
  },
  {
   "cell_type": "code",
   "execution_count": 76,
   "id": "3dc080e7-dc22-408e-b30c-f89fc6dd7efc",
   "metadata": {},
   "outputs": [
    {
     "name": "stdout",
     "output_type": "stream",
     "text": [
      "World\n"
     ]
    }
   ],
   "source": [
    "print(v[6:11])"
   ]
  },
  {
   "cell_type": "code",
   "execution_count": 78,
   "id": "8ea3c301-e8d6-418e-9b29-c9f006a2cdf2",
   "metadata": {},
   "outputs": [],
   "source": [
    "is_student = True "
   ]
  },
  {
   "cell_type": "code",
   "execution_count": null,
   "id": "aa542036-0e7e-4a64-849e-fb112d1d2f7c",
   "metadata": {},
   "outputs": [],
   "source": []
  }
 ],
 "metadata": {
  "kernelspec": {
   "display_name": "Python 3 (ipykernel)",
   "language": "python",
   "name": "python3"
  },
  "language_info": {
   "codemirror_mode": {
    "name": "ipython",
    "version": 3
   },
   "file_extension": ".py",
   "mimetype": "text/x-python",
   "name": "python",
   "nbconvert_exporter": "python",
   "pygments_lexer": "ipython3",
   "version": "3.10.8"
  }
 },
 "nbformat": 4,
 "nbformat_minor": 5
}
